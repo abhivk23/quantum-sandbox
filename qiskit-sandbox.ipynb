{
 "cells": [
  {
   "cell_type": "code",
   "execution_count": 89,
   "metadata": {},
   "outputs": [
    {
     "data": {
      "image/png": "[encoded data removed]",
      "text/plain": [
       "<Figure size 321.377x204.68 with 1 Axes>"
      ]
     },
     "execution_count": 89,
     "metadata": {},
     "output_type": "execute_result"
    }
   ],
   "source": [
    "#### Python Notebook sandbox for Qiskit \n",
    "### Terra circuit construction\n",
    "import numpy as np\n",
    "import qiskit as q\n",
    "%matplotlib inline\n",
    "\n",
    "## Build a circuit that generates the GHZ state |GHZ>=(|000>+|111>)/sqrt(2)\n",
    "circ = q.QuantumCircuit(3)\n",
    "\n",
    "# Hadamard gate to induce superposition in qubit 0\n",
    "circ.h(0)\n",
    "# CNOT gate to entangle 0 (control) and 1 (target)\n",
    "# Results in a Bell state |B>=(|00>+|11>)/sqrt(2)\n",
    "circ.cx(0,1)\n",
    "# CNOT gate to entangle 0 (control) and 2 (target)\n",
    "# Results in a GHZ state |GHZ>=(|000>+|111>)/sqrt(2)\n",
    "circ.cx(0,2)\n",
    "circ.draw('mpl')"
   ]
  },
  {
   "cell_type": "code",
   "execution_count": 71,
   "metadata": {},
   "outputs": [
    {
     "data": {
      "text/plain": [
       "array([0.70710678+0.j, 0.        +0.j, 0.        +0.j, 0.        +0.j,\n",
       "       0.        +0.j, 0.        +0.j, 0.        +0.j, 0.70710678+0.j])"
      ]
     },
     "execution_count": 71,
     "metadata": {},
     "output_type": "execute_result"
    }
   ],
   "source": [
    "## Aer statevector simulation\n",
    "from qiskit import Aer\n",
    "\n",
    "# Simulate the results of the GHZ preparation circuit, a complex vector of dimension 2^n (n=number of qubits)\n",
    "backend = Aer.get_backend('statevector_simulator')\n",
    "job = execute(circ, backend)\n",
    "result = job.result()\n",
    "\n",
    "# Get the resulting state vector\n",
    "outputstate = result.get_statevector(circ, decimals=3)\n",
    "outputstate"
   ]
  },
  {
   "cell_type": "code",
   "execution_count": 120,
   "metadata": {},
   "outputs": [
    {
     "data": {
      "text/plain": [
       "matplotlib.figure.Figure"
      ]
     },
     "execution_count": 120,
     "metadata": {},
     "output_type": "execute_result"
    }
   ],
   "source": [
    "## Visualization of statevectors are handled by matplotlib.figure.Figure objects.\n",
    "## The available native visualizations are imported here\n",
    "from qiskit.visualization import plot_state_city, plot_state_qsphere, plot_state_paulivec, plot_state_hinton, plot_bloch_multivector\n",
    "# Plot components of the state density matrix\n",
    "type(plot_bloch_multivector(outputstate))"
   ]
  },
  {
   "cell_type": "code",
   "execution_count": 73,
   "metadata": {},
   "outputs": [
    {
     "data": {
      "text/plain": [
       "(8, 8)"
      ]
     },
     "execution_count": 73,
     "metadata": {},
     "output_type": "execute_result"
    }
   ],
   "source": [
    "## Given a circuit with ONLY unitary operations, use the unitary_simulator backend \n",
    "## to calculate the 2^n X 2^n matrix of the circuit setup\n",
    "unitary_backend = Aer.get_backend('unitary_simulator')\n",
    "job = execute(circ, unitary_backend)\n",
    "result = job.result()\n",
    "unitary = result.get_unitary(circ, decimals=1)\n",
    "unitary.shape"
   ]
  },
  {
   "cell_type": "code",
   "execution_count": 90,
   "metadata": {},
   "outputs": [
    {
     "data": {
      "text/html": [
       "<pre style=\"word-wrap: normal;white-space: pre;background: #fff0;line-height: 1.1;font-family: &quot;Courier New&quot;,Courier,monospace\">     ┌───┐           ░ ┌─┐      \n",
       "q_0: ┤ H ├──■────■───░─┤M├──────\n",
       "     └───┘┌─┴─┐  │   ░ └╥┘┌─┐   \n",
       "q_1: ─────┤ X ├──┼───░──╫─┤M├───\n",
       "          └───┘┌─┴─┐ ░  ║ └╥┘┌─┐\n",
       "q_2: ──────────┤ X ├─░──╫──╫─┤M├\n",
       "               └───┘ ░  ║  ║ └╥┘\n",
       "c: 3/═══════════════════╩══╩══╩═\n",
       "                        0  1  2 </pre>"
      ],
      "text/plain": [
       "     ┌───┐           ░ ┌─┐      \n",
       "q_0: ┤ H ├──■────■───░─┤M├──────\n",
       "     └───┘┌─┴─┐  │   ░ └╥┘┌─┐   \n",
       "q_1: ─────┤ X ├──┼───░──╫─┤M├───\n",
       "          └───┘┌─┴─┐ ░  ║ └╥┘┌─┐\n",
       "q_2: ──────────┤ X ├─░──╫──╫─┤M├\n",
       "               └───┘ ░  ║  ║ └╥┘\n",
       "c: 3/═══════════════════╩══╩══╩═\n",
       "                        0  1  2 "
      ]
     },
     "execution_count": 90,
     "metadata": {},
     "output_type": "execute_result"
    }
   ],
   "source": [
    "## In practice, each run of the circuit needs to be measured, collapsing the qubits into a classical register\n",
    "# This particular implementation seems unstable; repeated executions result in conflicting versions\n",
    "circ.add_register(q.ClassicalRegister(3,'c'))\n",
    "circ.barrier(range(3))\n",
    "circ.measure(range(3),range(3))\n",
    "circ.draw()"
   ]
  },
  {
   "cell_type": "code",
   "execution_count": 113,
   "metadata": {},
   "outputs": [
    {
     "data": {
      "text/plain": [
       "array([{'000': 505, '111': 519}, {'000': 505, '111': 519},\n",
       "       {'000': 505, '111': 519}], dtype=object)"
      ]
     },
     "execution_count": 113,
     "metadata": {},
     "output_type": "execute_result"
    }
   ],
   "source": [
    "## The qasm_simualtor backend aggregates runs of the circuit execution, \n",
    "## each of which yield bitstrings of the form 'xyz', one classical bit each\n",
    "qasm_backend = Aer.get_backend('qasm_simulator')\n",
    "\n",
    "# Execute circuit runs and measurements 1024 times (also happens to be the default anyway)\n",
    "job = execute(circ, qasm_backend)\n",
    "result = job.result()\n",
    "\n",
    "# Tally the counts of each generated state. Add each trial to an array\n",
    "count_array = np.array([])\n",
    "for x in range(3):\n",
    "    counts = result.get_counts(circ)\n",
    "    count_array = np.append(count_array, counts)\n",
    "    \n",
    "count_array"
   ]
  },
  {
   "cell_type": "code",
   "execution_count": 114,
   "metadata": {},
   "outputs": [
    {
     "data": {
      "image/png": "[encoded data removed]",
      "text/plain": [
       "<Figure size 504x360 with 1 Axes>"
      ]
     },
     "execution_count": 114,
     "metadata": {},
     "output_type": "execute_result"
    }
   ],
   "source": [
    "from qiskit.visualization import plot_histogram\n",
    "plot_histogram(count_array)"
   ]
  },
  {
   "cell_type": "code",
   "execution_count": null,
   "metadata": {},
   "outputs": [],
   "source": [
    "### "
   ]
  }
 ],
 "metadata": {
  "kernelspec": {
   "display_name": "Python 3",
   "language": "python",
   "name": "python3"
  },
  "language_info": {
   "codemirror_mode": {
    "name": "ipython",
    "version": 3
   },
   "file_extension": ".py",
   "mimetype": "text/x-python",
   "name": "python",
   "nbconvert_exporter": "python",
   "pygments_lexer": "ipython3",
   "version": "3.7.2"
  }
 },
 "nbformat": 4,
 "nbformat_minor": 4
}
