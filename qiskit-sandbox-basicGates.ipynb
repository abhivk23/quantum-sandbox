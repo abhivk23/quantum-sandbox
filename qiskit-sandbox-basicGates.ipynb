{
 "cells": [
  {
   "cell_type": "code",
   "execution_count": 9,
   "metadata": {},
   "outputs": [
    {
     "data": {
      "text/html": [
       "<pre style=\"word-wrap: normal;white-space: pre;background: #fff0;line-height: 1.1;font-family: &quot;Courier New&quot;,Courier,monospace\">     ┌────────────────────┐\n",
       "q_0: ┤ U3(pi/2,pi/2,pi/2) ├\n",
       "     └────────────────────┘</pre>"
      ],
      "text/plain": [
       "     ┌────────────────────┐\n",
       "q_0: ┤ U3(pi/2,pi/2,pi/2) ├\n",
       "     └────────────────────┘"
      ]
     },
     "execution_count": 9,
     "metadata": {},
     "output_type": "execute_result"
    }
   ],
   "source": [
    "### Exploration of the many quantum operators available in Terra.\n",
    "### The combination of these individual gates can be used to build more advanced circuits.\n",
    "import qiskit as q\n",
    "%matplotlib inline\n",
    "from math import pi\n",
    "\n",
    "from qiskit import QuantumCircuit, ClassicalRegister, QuantumRegister, execute\n",
    "from qiskit.tools.visualization import circuit_drawer\n",
    "from qiskit.quantum_info import state_fidelity\n",
    "from qiskit import BasicAer\n",
    "## These are all unitary gates, so we'll use the unitary_simulator backend\n",
    "unitary_backend = BasicAer.get_backend('unitary_simulator')\n",
    "\n",
    "## Single Qubit Gates\n",
    "q = QuantumCircuit(1)\n",
    "# u-gates of 3 varieties\n",
    "q.u3(pi/2,pi/2,pi/2,q.qubits[0]) # u3 gate: most generalized form of unitary \n",
    "q.draw()"
   ]
  },
  {
   "cell_type": "code",
   "execution_count": null,
   "metadata": {},
   "outputs": [],
   "source": []
  }
 ],
 "metadata": {
  "kernelspec": {
   "display_name": "Python 3",
   "language": "python",
   "name": "python3"
  },
  "language_info": {
   "codemirror_mode": {
    "name": "ipython",
    "version": 3
   },
   "file_extension": ".py",
   "mimetype": "text/x-python",
   "name": "python",
   "nbconvert_exporter": "python",
   "pygments_lexer": "ipython3",
   "version": "3.7.2"
  }
 },
 "nbformat": 4,
 "nbformat_minor": 4
}